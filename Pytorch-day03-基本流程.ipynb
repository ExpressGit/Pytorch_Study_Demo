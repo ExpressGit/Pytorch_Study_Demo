{
 "cells": [
  {
   "cell_type": "markdown",
   "id": "5d692f3e",
   "metadata": {},
   "source": [
    "## PyTorch 基本流程\n",
    "- 数据预处理\n",
    "- 划分训练集、验证集、测试集\n",
    "- 选择模型\n",
    "- 设定损失函数&优化方法\n",
    "- 模型效果评估\n",
    "- GPU配置\n",
    "\n"
   ]
  },
  {
   "cell_type": "code",
   "execution_count": null,
   "id": "0c89e9c7",
   "metadata": {},
   "outputs": [],
   "source": [
    "#导入常用包\n",
    "import os \n",
    "import numpy as np \n",
    "import torch\n",
    "import torch.nn as nn\n",
    "from torch.utils.data import Dataset, DataLoader\n",
    "import torch.optim as optimizer"
   ]
  },
  {
   "cell_type": "markdown",
   "id": "06a85da3",
   "metadata": {},
   "source": [
    "超参数可以统一设置，参数初始化：\n",
    "- batch size\n",
    "- 初始学习率（初始）\n",
    "- 训练次数（max_epochs）\n",
    "- GPU配置"
   ]
  },
  {
   "cell_type": "code",
   "execution_count": null,
   "id": "2b813e49",
   "metadata": {},
   "outputs": [],
   "source": [
    "batch_size = 16\n",
    "# 批次的大小\n",
    "lr = 1e-4\n",
    "# 优化器的学习率\n",
    "max_epochs = 100\n",
    "# 方案一：制定GPU的方式\n",
    "os.environ['CUDA_VISIBLE_DEVICES'] = '0,1' # 指明调用的GPU为0,1号\n",
    "\n",
    "# 方案二：使用“device”，后续对要使用GPU的变量用.to(device)即可\n",
    "device = torch.device(\"cuda:1\" if torch.cuda.is_available() else \"cpu\") # 指明调用的GPU为1号"
   ]
  },
  {
   "cell_type": "markdown",
   "id": "1cb5192c",
   "metadata": {},
   "source": [
    "Dataset类主要包含三个函数：\n",
    "- __init__: 用于向类中传入外部参数，同时定义样本集\n",
    "- __getitem__: 用于逐个读取样本集合中的元素，可以进行一定的变换，并将返回训练/验证所需的数据\n",
    "- __len__: 用于返回数据集的样本数"
   ]
  },
  {
   "cell_type": "code",
   "execution_count": null,
   "id": "0298fce7",
   "metadata": {},
   "outputs": [],
   "source": [
    "# 数据读取\n",
    "#cifar10数据集为例给出构建Dataset类的方式\n",
    "\n",
    "import torch\n",
    "from torchvision import datasets\n",
    "train_data = datasets.ImageFolder(train_path, transform=data_transform)\n",
    "val_data = datasets.ImageFolder(val_path, transform=data_transform)\n",
    "\n",
    "#其中“data_transform”可以对图像进行一定的变换，如翻转、裁剪等操作，可自己定义"
   ]
  },
  {
   "cell_type": "code",
   "execution_count": null,
   "id": "1c451375",
   "metadata": {},
   "outputs": [],
   "source": [
    "#自定义Dataset类\n",
    "class MyDataset(Dataset):\n",
    "    def __init__(self, data_dir, info_csv, image_list, transform=None):\n",
    "        \"\"\"\n",
    "        Args:\n",
    "            data_dir: path to image directory.\n",
    "            info_csv: path to the csv file containing image indexes\n",
    "                with corresponding labels.\n",
    "            image_list: path to the txt file contains image names to training/validation set\n",
    "            transform: optional transform to be applied on a sample.\n",
    "        \"\"\"\n",
    "        label_info = pd.read_csv(info_csv)\n",
    "        image_file = open(image_list).readlines()\n",
    "        self.data_dir = data_dir\n",
    "        self.image_file = image_file\n",
    "        self.label_info = label_info\n",
    "        self.transform = transform\n",
    "\n",
    "    def __getitem__(self, index):\n",
    "        \"\"\"\n",
    "        Args:\n",
    "            index: the index of item\n",
    "        Returns:\n",
    "            image and its labels\n",
    "        \"\"\"\n",
    "        image_name = self.image_file[index].strip('\\n')\n",
    "        raw_label = self.label_info.loc[self.label_info['Image_index'] == image_name]\n",
    "        label = raw_label.iloc[:,0]\n",
    "        image_name = os.path.join(self.data_dir, image_name)\n",
    "        image = Image.open(image_name).convert('RGB')\n",
    "        if self.transform is not None:\n",
    "            image = self.transform(image)\n",
    "        return image, label\n",
    "\n",
    "    def __len__(self):\n",
    "        return len(self.image_file)"
   ]
  },
  {
   "cell_type": "code",
   "execution_count": null,
   "id": "a561acdb",
   "metadata": {},
   "outputs": [],
   "source": [
    "#构建好Dataset后，就可以使用DataLoader来按批次读入数据了\n",
    "from torch.utils.data import DataLoader\n",
    "\n",
    "train_loader = torch.utils.data.DataLoader(train_data, batch_size=batch_size, num_workers=4, shuffle=True, drop_last=True)\n",
    "val_loader = torch.utils.data.DataLoader(val_data, batch_size=batch_size, num_workers=4, shuffle=False)\n",
    "\n"
   ]
  },
  {
   "cell_type": "markdown",
   "id": "142c77c9",
   "metadata": {},
   "source": [
    "参数说明:\n",
    "- batch_size：样本是按“批”读入的，batch_size就是每次读入的样本数\n",
    "- num_workers：有多少个进程用于读取数据，Windows下该参数设置为0，Linux下常见的为4或者8，根据自己的电脑配置来设置\n",
    "- shuffle：是否将读入的数据打乱，一般在训练集中设置为True，验证集中设置为False\n",
    "- drop_last：对于样本最后一部分没有达到批次数的样本，使其不再参与训练"
   ]
  },
  {
   "cell_type": "code",
   "execution_count": null,
   "id": "48adab4c",
   "metadata": {},
   "outputs": [],
   "source": [
    "# PyTorch中的DataLoader的读取可以使用next和iter  数据批次读取\n",
    "import matplotlib.pyplot as plt\n",
    "images, labels = next(iter(val_loader))\n",
    "print(images.shape)\n",
    "plt.imshow(images[0].transpose(1,2,0))\n",
    "plt.show()"
   ]
  },
  {
   "cell_type": "code",
   "execution_count": null,
   "id": "f68538f2",
   "metadata": {},
   "outputs": [],
   "source": [
    "# 构建神经网络\n",
    "# MLP 类重载了 Module 类的 __init__ 函数和 forward 函数\n",
    "# 它们分别用于创建模型参数和定义前向计算（正向传播），⽆须定义反向传播函数。系统将通过⾃动求梯度⽽自动⽣成反向传播所需的 backward 函数\n",
    "from torch import nn\n",
    "\n",
    "class MLP(nn.Module):\n",
    "  # 声明带有模型参数的层，这里声明了两个全连接层\n",
    "  def __init__(self, **kwargs):\n",
    "    # 调用MLP父类Block的构造函数来进行必要的初始化。这样在构造实例时还可以指定其他函数\n",
    "    super(MLP, self).__init__(**kwargs)\n",
    "    self.hidden = nn.Linear(784, 256)\n",
    "    self.act = nn.ReLU()\n",
    "    self.output = nn.Linear(256,10)\n",
    "    \n",
    "   # 定义模型的前向计算，即如何根据输入x计算返回所需要的模型输出\n",
    "  def forward(self, x):\n",
    "    o = self.act(self.hidden(x))\n",
    "    return self.output(o)   "
   ]
  },
  {
   "cell_type": "code",
   "execution_count": null,
   "id": "0c9b6b43",
   "metadata": {},
   "outputs": [],
   "source": [
    "# 运行MLP\n",
    "X = torch.rand(2,784) # 设置一个随机的输入张量\n",
    "net = MLP() # 实例化模型\n",
    "print(net) # 打印模型\n",
    "net(X) # 前向计算"
   ]
  },
  {
   "cell_type": "code",
   "execution_count": null,
   "id": "9ff84457",
   "metadata": {},
   "outputs": [],
   "source": []
  },
  {
   "cell_type": "code",
   "execution_count": null,
   "id": "02bc0ec9",
   "metadata": {},
   "outputs": [],
   "source": []
  },
  {
   "cell_type": "code",
   "execution_count": null,
   "id": "04ac5548",
   "metadata": {},
   "outputs": [],
   "source": []
  }
 ],
 "metadata": {
  "kernelspec": {
   "display_name": "Python 3",
   "language": "python",
   "name": "python3"
  },
  "language_info": {
   "codemirror_mode": {
    "name": "ipython",
    "version": 3
   },
   "file_extension": ".py",
   "mimetype": "text/x-python",
   "name": "python",
   "nbconvert_exporter": "python",
   "pygments_lexer": "ipython3",
   "version": "3.8.8"
  }
 },
 "nbformat": 4,
 "nbformat_minor": 5
}
