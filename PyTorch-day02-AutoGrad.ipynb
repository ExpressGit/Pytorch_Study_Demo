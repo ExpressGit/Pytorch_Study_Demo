{
 "cells": [
  {
   "attachments": {},
   "cell_type": "markdown",
   "id": "5c50ea66",
   "metadata": {},
   "source": [
    "## 自动求导\n",
    "PyTorch 中， 所有神经网络的核心是 autograd 包。autograd包为张量上的所有操作提供了自动求导机制。\n",
    "\n",
    "### 本节内容：\n",
    "- autograd的求导机制\n",
    "\n",
    "- 梯度的反向传播\n",
    "\n",
    "### Autograd简介\n",
    "torch.Tensor 是这个包的核心类。如果设置它的属性 .requires_grad 为 True，那么它将会追踪对于该张量的所有操作。当完成计算后可以通过调用 .backward()，来自动计算所有的梯度。这个张量的所有梯度将会自动累加到.grad属性。\n",
    "\n",
    "> 注意：在 y.backward() 时，如果 y 是标量，则不需要为 backward() 传入任何参数；否则，需要传入一个与 y 同形的Tensor。\n",
    "\n",
    "requires_grad参数说明：\n",
    "- requires_grad=True时，表示参数需要参与训练，并在训练过程中进行梯度计算\n",
    "- requires_grad=False时，表示参数不需要参与训练，可以将代码块包装在 with torch.no_grad(): 中"
   ]
  },
  {
   "attachments": {},
   "cell_type": "markdown",
   "id": "ab83b0fe",
   "metadata": {},
   "source": [
    "autograd 要点：\n",
    "- Tensor 和 Function 互相连接生成了一个无环图 (acyclic graph)，它编码了完整的计算历史。每个张量都有一个.grad_fn属性，该属性引用了创建 Tensor 自身的Function\n",
    "- 张量是用户手动创建的，即这个张量的grad_fn是 None"
   ]
  },
  {
   "cell_type": "code",
   "execution_count": 21,
   "id": "df839921",
   "metadata": {},
   "outputs": [
    {
     "name": "stdout",
     "output_type": "stream",
     "text": [
      "None\n"
     ]
    }
   ],
   "source": [
    "from __future__ import print_function\n",
    "import torch\n",
    "# 手动创建Tensor ，则grad fun 为None\n",
    "x = torch.randn(3,3,requires_grad=True)\n",
    "print(x.grad_fn)"
   ]
  },
  {
   "cell_type": "code",
   "execution_count": 22,
   "id": "85590d27",
   "metadata": {},
   "outputs": [
    {
     "name": "stdout",
     "output_type": "stream",
     "text": [
      "tensor([[1., 1.],\n",
      "        [1., 1.]], requires_grad=True)\n",
      "None\n"
     ]
    }
   ],
   "source": [
    "# 计算导数\n",
    "# 设置requires_grad=True用来追踪其计算历史\n",
    "x = torch.ones(2, 2, requires_grad=True)\n",
    "print(x)\n",
    "print(x.grad_fn)"
   ]
  },
  {
   "cell_type": "code",
   "execution_count": 3,
   "id": "227ac27a",
   "metadata": {},
   "outputs": [
    {
     "name": "stdout",
     "output_type": "stream",
     "text": [
      "tensor([[1., 1.],\n",
      "        [1., 1.]], grad_fn=<PowBackward0>)\n",
      "<PowBackward0 object at 0x00000219CFA7B9A0>\n"
     ]
    }
   ],
   "source": [
    "#y是计算的结果，所以它有grad_fn属性。\n",
    "y = x**2\n",
    "print(y)\n",
    "print(y.grad_fn)"
   ]
  },
  {
   "cell_type": "code",
   "execution_count": 4,
   "id": "2f750712",
   "metadata": {},
   "outputs": [
    {
     "name": "stdout",
     "output_type": "stream",
     "text": [
      "tensor([[3., 3.],\n",
      "        [3., 3.]], grad_fn=<MulBackward0>) tensor(3., grad_fn=<MeanBackward0>)\n"
     ]
    }
   ],
   "source": [
    "#.requires_grad_(...) 原地改变了现有张量的requires_grad标志。\n",
    "z = y * y * 3\n",
    "out = z.mean()\n",
    "\n",
    "print(z, out)"
   ]
  },
  {
   "cell_type": "code",
   "execution_count": 20,
   "id": "0b5b0459",
   "metadata": {},
   "outputs": [
    {
     "name": "stdout",
     "output_type": "stream",
     "text": [
      "False\n"
     ]
    }
   ],
   "source": [
    "# 如果没有指定的话，默认输入的这个标志是 False。\n",
    "a = torch.randn(2, 2) # 缺失情况下默认 requires_grad = False\n",
    "b = ((a * 3) / (a - 1))\n",
    "print(b.requires_grad)"
   ]
  },
  {
   "attachments": {},
   "cell_type": "markdown",
   "id": "91e8acc6",
   "metadata": {},
   "source": [
    "### 梯度求解"
   ]
  },
  {
   "cell_type": "code",
   "execution_count": 6,
   "id": "e430146a",
   "metadata": {},
   "outputs": [],
   "source": [
    "# 求解out\n",
    "# 因为 out 是一个标量，因此out.backward()和 out.backward(torch.tensor(1.)) 等价\n",
    "out.backward()\n",
    "#d(out)/dx"
   ]
  },
  {
   "cell_type": "code",
   "execution_count": 7,
   "id": "b4242da7",
   "metadata": {},
   "outputs": [
    {
     "name": "stdout",
     "output_type": "stream",
     "text": [
      "tensor([[3., 3.],\n",
      "        [3., 3.]])\n"
     ]
    }
   ],
   "source": [
    "print(x.grad)"
   ]
  },
  {
   "attachments": {
    "image.png": {
     "image/png": "[encoded data removed]"
    }
   },
   "cell_type": "markdown",
   "id": "f9bcd186",
   "metadata": {},
   "source": [
    "数学上，若有向量函数$y = f(x)$,\n",
    "，那么y关于x的梯度就是一个雅可比矩阵： \n",
    " ![image.png](attachment:image.png)\n",
    "而 torch.autograd 这个包就是用来计算一些雅可比矩阵的乘积的\n",
    "\n",
    "> 注意：grad在反向传播过程中是累加的(accumulated)，这意味着每一次运行反向传播，梯度都会累加之前的梯度，所以一般在反向传播之前需把梯度清零"
   ]
  },
  {
   "cell_type": "code",
   "execution_count": 8,
   "id": "13a3f213",
   "metadata": {},
   "outputs": [
    {
     "name": "stdout",
     "output_type": "stream",
     "text": [
      "tensor([[4., 4.],\n",
      "        [4., 4.]])\n"
     ]
    }
   ],
   "source": [
    "# 再来反向传播⼀一次，注意grad是累加的\n",
    "out2 = x.sum()\n",
    "out2.backward()\n",
    "print(x.grad)"
   ]
  },
  {
   "cell_type": "code",
   "execution_count": 9,
   "id": "5b3d4e44",
   "metadata": {},
   "outputs": [
    {
     "name": "stdout",
     "output_type": "stream",
     "text": [
      "tensor([[1., 1.],\n",
      "        [1., 1.]])\n"
     ]
    }
   ],
   "source": [
    "# 梯度清零 再求导\n",
    "out3 = x.sum()\n",
    "x.grad.data.zero_()\n",
    "out3.backward()\n",
    "print(x.grad)"
   ]
  },
  {
   "cell_type": "code",
   "execution_count": 11,
   "id": "e5f5d9e2",
   "metadata": {},
   "outputs": [
    {
     "name": "stdout",
     "output_type": "stream",
     "text": [
      "tensor([-0.5809, -1.0104,  1.2924], requires_grad=True)\n",
      "tensor(3.4806)\n",
      "tensor(6.9612)\n",
      "tensor(13.9224)\n",
      "tensor(27.8449)\n",
      "tensor(55.6897)\n",
      "tensor(111.3795)\n",
      "tensor(222.7590)\n",
      "tensor(445.5180)\n",
      "tensor(891.0359)\n",
      "tensor([ -594.8848, -1034.6632,  1323.3912], grad_fn=<MulBackward0>)\n",
      "9\n"
     ]
    }
   ],
   "source": [
    "x = torch.randn(3, requires_grad=True)\n",
    "print(x)\n",
    "\n",
    "y = x * 2\n",
    "i = 0\n",
    "# norm y每个元素进行平方，然后对它们求和，最后取平方根 ,L2范式\n",
    "while y.data.norm() < 1000:\n",
    "    print(y.data.norm())\n",
    "    y = y * 2\n",
    "    i = i + 1\n",
    "print(y)\n",
    "print(i)"
   ]
  },
  {
   "cell_type": "code",
   "execution_count": 12,
   "id": "7313732c",
   "metadata": {},
   "outputs": [
    {
     "name": "stdout",
     "output_type": "stream",
     "text": [
      "tensor([1.0240e+02, 1.0240e+03, 1.0240e-01])\n"
     ]
    }
   ],
   "source": [
    "# y 不再是标量。torch.autograd 不能直接计算完整的雅可比矩阵，\n",
    "#但是如果我们只想要雅可比向量积，只需将这个向量作为参数传给 backward\n",
    "v = torch.tensor([0.1,1.0,0.0001],dtype=torch.float)\n",
    "y.backward(v)\n",
    "\n",
    "print(x.grad)"
   ]
  },
  {
   "cell_type": "code",
   "execution_count": 13,
   "id": "189790cf",
   "metadata": {},
   "outputs": [
    {
     "name": "stdout",
     "output_type": "stream",
     "text": [
      "True\n",
      "True\n",
      "False\n"
     ]
    }
   ],
   "source": [
    "# 也可以通过将代码块包装在 with torch.no_grad(): 中，\n",
    "#来阻止 autograd 跟踪设置了.requires_grad=True的张量的历史记录。\n",
    "print(x.requires_grad)\n",
    "print((x ** 2).requires_grad)\n",
    "\n",
    "with torch.no_grad():\n",
    "    print((x ** 2).requires_grad)"
   ]
  },
  {
   "cell_type": "code",
   "execution_count": 24,
   "id": "8a8302cd",
   "metadata": {},
   "outputs": [
    {
     "name": "stdout",
     "output_type": "stream",
     "text": [
      "tensor([1.])\n",
      "True\n",
      "False\n",
      "tensor([2.], grad_fn=<MulBackward0>)\n",
      "tensor([1.], requires_grad=True)\n",
      "tensor([2.])\n"
     ]
    }
   ],
   "source": [
    "#如果我们想要修改 tensor 的数值，但是又不希望被 autograd 记录(即不会影响反向传播)， \n",
    "#那么我们可以对 tensor.data 进行操作\n",
    "x = torch.ones(1,requires_grad=True)\n",
    "\n",
    "print(x.data) # 还是一个tensor\n",
    "print(x.requires_grad)\n",
    "print(x.data.requires_grad) # 但是已经是独立于计算图之外\n",
    "\n",
    "y = 2 * x\n",
    "print(y)\n",
    "x.data *= 100 # 只改变了值，不会记录在计算图，所以不会影响梯度传播\n",
    "print(x) # 更改data的值也会影响tensor的值 \n",
    "y.backward()\n",
    "\n",
    "print(x.grad)"
   ]
  },
  {
   "cell_type": "code",
   "execution_count": null,
   "id": "668bbdcb",
   "metadata": {},
   "outputs": [],
   "source": []
  }
 ],
 "metadata": {
  "kernelspec": {
   "display_name": "Python 3 (ipykernel)",
   "language": "python",
   "name": "python3"
  },
  "language_info": {
   "codemirror_mode": {
    "name": "ipython",
    "version": 3
   },
   "file_extension": ".py",
   "mimetype": "text/x-python",
   "name": "python",
   "nbconvert_exporter": "python",
   "pygments_lexer": "ipython3",
   "version": "3.9.7"
  }
 },
 "nbformat": 4,
 "nbformat_minor": 5
}
